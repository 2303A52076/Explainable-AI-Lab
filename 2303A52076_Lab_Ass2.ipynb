{
  "nbformat": 4,
  "nbformat_minor": 0,
  "metadata": {
    "colab": {
      "provenance": []
    },
    "kernelspec": {
      "name": "python3",
      "display_name": "Python 3"
    },
    "language_info": {
      "name": "python"
    }
  },
  "cells": [
    {
      "cell_type": "code",
      "source": [
        "import pandas as pd\n",
        "import numpy as np\n",
        "\n",
        "# Generate Energy Efficiency dataset (regression)\n",
        "np.random.seed(42)\n",
        "n = 1000\n",
        "\n",
        "data = {\n",
        "    \"Relative_Compactness\": np.random.uniform(0.5, 1.0, n),\n",
        "    \"Surface_Area\": np.random.uniform(500, 1000, n),\n",
        "    \"Wall_Area\": np.random.uniform(200, 500, n),\n",
        "    \"Roof_Area\": np.random.uniform(100, 300, n),\n",
        "    \"Overall_Height\": np.random.choice([3.5, 7], n),\n",
        "    \"Orientation\": np.random.randint(2, 6, n),\n",
        "    \"Glazing_Area\": np.random.uniform(0, 0.4, n),\n",
        "    \"Glazing_Area_Distribution\": np.random.randint(1, 5, n),\n",
        "}\n",
        "\n",
        "# Target: Heating load (simplified function + noise)\n",
        "heating_load = (\n",
        "    30\n",
        "    - 10 * data[\"Relative_Compactness\"]\n",
        "    + 0.02 * data[\"Surface_Area\"]\n",
        "    + 0.03 * data[\"Wall_Area\"]\n",
        "    - 0.05 * data[\"Roof_Area\"]\n",
        "    + 2 * (np.array(data[\"Overall_Height\"]) == 7).astype(int)\n",
        "    + np.random.normal(0, 2, n)\n",
        ")\n",
        "\n",
        "data[\"Heating_Load\"] = heating_load\n",
        "\n",
        "df_energy = pd.DataFrame(data)\n",
        "\n",
        "# Save as CSV\n",
        "df_energy.to_csv(\"energy_efficiency.csv\", index=False)\n",
        "\n",
        "print(\"✅ energy_efficiency.csv created\")\n",
        "print(df_energy.head())\n"
      ],
      "metadata": {
        "colab": {
          "base_uri": "https://localhost:8080/"
        },
        "id": "ihBbObh0GOLX",
        "outputId": "9e6ec81b-14be-40a0-ecbc-b9f108836f87"
      },
      "execution_count": 5,
      "outputs": [
        {
          "output_type": "stream",
          "name": "stdout",
          "text": [
            "✅ energy_efficiency.csv created\n",
            "   Relative_Compactness  Surface_Area   Wall_Area   Roof_Area  Overall_Height  \\\n",
            "0              0.687270    592.566464  278.511705  234.540599             7.0   \n",
            "1              0.975357    770.950474  274.093640  259.336279             3.5   \n",
            "2              0.865997    936.472918  471.876374  150.093580             7.0   \n",
            "3              0.799329    866.112443  274.863860  224.974820             3.5   \n",
            "4              0.578009    903.280574  281.584918  214.349197             3.5   \n",
            "\n",
            "   Orientation  Glazing_Area  Glazing_Area_Distribution  Heating_Load  \n",
            "0            2      0.157454                          1     33.059491  \n",
            "1            5      0.189374                          1     30.892892  \n",
            "2            2      0.341819                          3     49.020297  \n",
            "3            3      0.136002                          1     36.521786  \n",
            "4            2      0.347860                          1     40.887618  \n"
          ]
        }
      ]
    },
    {
      "cell_type": "code",
      "source": [
        "import pandas as pd\n",
        "import numpy as np\n",
        "import matplotlib.pyplot as plt\n",
        "from sklearn.model_selection import train_test_split\n",
        "from sklearn.ensemble import RandomForestRegressor\n",
        "from sklearn.metrics import mean_absolute_error, mean_squared_error, r2_score\n",
        "import shap\n",
        "\n",
        "# =============================\n",
        "# 1. Load Dataset\n",
        "# =============================\n",
        "df = pd.read_csv(\"energy_efficiency.csv\")   # use the file you just created\n",
        "\n",
        "X = df.drop(\"Heating_Load\", axis=1)\n",
        "y = df[\"Heating_Load\"]\n",
        "\n",
        "# Train-test split\n",
        "X_train, X_test, y_train, y_test = train_test_split(\n",
        "    X, y, test_size=0.2, random_state=42\n",
        ")\n",
        "\n",
        "# =============================\n",
        "# 2. Train Random Forest Regressor\n",
        "# =============================\n",
        "model = RandomForestRegressor(n_estimators=200, random_state=42)\n",
        "model.fit(X_train, y_train)\n",
        "\n",
        "# Predictions\n",
        "y_pred = model.predict(X_test)\n",
        "\n",
        "print(\"=== Regression Report ===\")\n",
        "print(\"MAE:\", mean_absolute_error(y_test, y_pred))\n",
        "print(\"MSE:\", mean_squared_error(y_test, y_pred))\n",
        "print(\"RMSE:\", np.sqrt(mean_squared_error(y_test, y_pred)))\n",
        "print(\"R² Score:\", r2_score(y_test, y_pred))\n",
        "\n",
        "# =============================\n",
        "# 3. Feature Importance (RF built-in)\n",
        "# =============================\n",
        "importances = model.feature_importances_\n",
        "indices = np.argsort(importances)[::-1]\n",
        "\n",
        "plt.bar(range(len(indices)), importances[indices])\n",
        "plt.xticks(range(len(indices)), X.columns[indices], rotation=45, ha=\"right\")\n",
        "plt.title(\"Random Forest Feature Importance\")\n",
        "plt.savefig(\"rf_feature_importance.png\", dpi=300, bbox_inches=\"tight\")\n",
        "plt.close()\n",
        "print(\"✅ Saved rf_feature_importance.png\")\n",
        "\n",
        "# =============================\n",
        "# 4. SHAP Explainability\n",
        "# =============================\n",
        "explainer = shap.TreeExplainer(model)\n",
        "shap_values = explainer(X_test)\n",
        "\n",
        "# SHAP Summary Plot\n",
        "shap.summary_plot(shap_values, X_test, show=False)\n",
        "plt.savefig(\"shap_summary.png\", dpi=300, bbox_inches=\"tight\")\n",
        "plt.close()\n",
        "print(\"✅ Saved shap_summary.png\")\n",
        "\n",
        "# SHAP Waterfall Plot (first test sample)\n",
        "shap.plots.waterfall(shap_values[0], show=False)\n",
        "plt.savefig(\"shap_waterfall.png\", dpi=300, bbox_inches=\"tight\")\n",
        "plt.close()\n",
        "print(\"✅ Saved shap_waterfall.png\")\n",
        "\n",
        "print(\"\\n🎯 All outputs ready: rf_feature_importance.png, shap_summary.png, shap_waterfall.png\")\n"
      ],
      "metadata": {
        "colab": {
          "base_uri": "https://localhost:8080/"
        },
        "id": "9gj3u6L5GiR3",
        "outputId": "825c58a9-9dc7-4bb9-fd21-7091f4100c28"
      },
      "execution_count": 6,
      "outputs": [
        {
          "output_type": "stream",
          "name": "stdout",
          "text": [
            "=== Regression Report ===\n",
            "MAE: 1.864728447711012\n",
            "MSE: 5.431209048935386\n",
            "RMSE: 2.3304954513869762\n",
            "R² Score: 0.8211466168005007\n",
            "✅ Saved rf_feature_importance.png\n"
          ]
        },
        {
          "output_type": "stream",
          "name": "stderr",
          "text": [
            "/tmp/ipython-input-2113343737.py:57: FutureWarning: The NumPy global RNG was seeded by calling `np.random.seed`. In a future version this function will no longer use the global RNG. Pass `rng` explicitly to opt-in to the new behaviour and silence this warning.\n",
            "  shap.summary_plot(shap_values, X_test, show=False)\n"
          ]
        },
        {
          "output_type": "stream",
          "name": "stdout",
          "text": [
            "✅ Saved shap_summary.png\n",
            "✅ Saved shap_waterfall.png\n",
            "\n",
            "🎯 All outputs ready: rf_feature_importance.png, shap_summary.png, shap_waterfall.png\n"
          ]
        }
      ]
    }
  ]
}